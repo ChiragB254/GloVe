{
 "cells": [
  {
   "cell_type": "code",
   "execution_count": 1,
   "metadata": {},
   "outputs": [],
   "source": [
    "import gensim.downloader as api"
   ]
  },
  {
   "cell_type": "code",
   "execution_count": 9,
   "metadata": {},
   "outputs": [],
   "source": [
    "# Download the GloVe model (50-dimensional vectors)\n",
    "glove_model = api.load(\"glove-wiki-gigaword-50\")"
   ]
  },
  {
   "cell_type": "code",
   "execution_count": 33,
   "metadata": {},
   "outputs": [
    {
     "name": "stdout",
     "output_type": "stream",
     "text": [
      "Vector for 'linkedin': [ 0.52803   1.1838    1.7632    1.0627   -0.15358   0.63223  -0.75714\n",
      " -0.8277   -0.030045  0.30291  -0.33126  -0.33239  -0.71714  -0.34206\n",
      "  0.24737  -0.070328 -1.0163    0.47179   1.7459   -0.024296  0.52058\n",
      "  0.071745 -0.075201  1.2263    0.33844   0.57424   0.04012  -0.67976\n",
      " -0.67021  -0.22943  -0.079154  0.11233   0.19936  -0.9982   -0.91736\n",
      " -0.13846  -0.59812  -0.13222  -0.28601  -0.62113   0.80051  -1.1016\n",
      " -1.5215    0.88002   1.1588   -1.728     0.17305  -0.14983   0.4099\n",
      "  0.33095 ]\n"
     ]
    }
   ],
   "source": [
    "# Example: Get the vector for a specific word\n",
    "vector = glove_model['linkedin']\n",
    "print(f\"Vector for 'linkedin': {vector}\")"
   ]
  },
  {
   "cell_type": "code",
   "execution_count": 25,
   "metadata": {},
   "outputs": [
    {
     "name": "stdout",
     "output_type": "stream",
     "text": [
      "queen: 0.9289\n"
     ]
    }
   ],
   "source": [
    "# Use a different similarity measure: \"cosmul\".\n",
    "result = glove_model.most_similar_cosmul(positive=['woman', 'king'], negative=['man'])\n",
    "most_similar_key, similarity = result[0]  # look at the first match\n",
    "print(f\"{most_similar_key}: {similarity:.4f}\")"
   ]
  },
  {
   "cell_type": "code",
   "execution_count": 26,
   "metadata": {},
   "outputs": [
    {
     "name": "stdout",
     "output_type": "stream",
     "text": [
      "cereal\n"
     ]
    }
   ],
   "source": [
    "print(glove_model.doesnt_match(\"breakfast cereal dinner lunch\".split()))"
   ]
  },
  {
   "cell_type": "code",
   "execution_count": 15,
   "metadata": {},
   "outputs": [
    {
     "data": {
      "text/plain": [
       "0.8860338"
      ]
     },
     "execution_count": 15,
     "metadata": {},
     "output_type": "execute_result"
    }
   ],
   "source": [
    "glove_model.similarity('woman', 'man')"
   ]
  },
  {
   "cell_type": "code",
   "execution_count": 27,
   "metadata": {},
   "outputs": [
    {
     "name": "stdout",
     "output_type": "stream",
     "text": [
      "dog: 0.9218\n"
     ]
    }
   ],
   "source": [
    "result = glove_model.similar_by_word(\"cat\")\n",
    "most_similar_key, similarity = result[0]  # look at the first match\n",
    "print(f\"{most_similar_key}: {similarity:.4f}\")"
   ]
  },
  {
   "cell_type": "code",
   "execution_count": 28,
   "metadata": {},
   "outputs": [
    {
     "data": {
      "text/plain": [
       "[('dog', 0.9218006134033203),\n",
       " ('rabbit', 0.8487821221351624),\n",
       " ('monkey', 0.8041081428527832),\n",
       " ('rat', 0.7891963124275208),\n",
       " ('cats', 0.7865270972251892),\n",
       " ('snake', 0.7798910737037659),\n",
       " ('dogs', 0.7795814871788025),\n",
       " ('pet', 0.7792249917984009),\n",
       " ('mouse', 0.773166835308075),\n",
       " ('bite', 0.7728800177574158)]"
      ]
     },
     "execution_count": 28,
     "metadata": {},
     "output_type": "execute_result"
    }
   ],
   "source": [
    "result"
   ]
  },
  {
   "cell_type": "code",
   "execution_count": 17,
   "metadata": {},
   "outputs": [],
   "source": [
    "sentence_obama = 'Obama speaks to the media in Illinois'.lower().split()\n",
    "sentence_president = 'The president greets the press in Chicago'.lower().split()"
   ]
  },
  {
   "cell_type": "code",
   "execution_count": 32,
   "metadata": {},
   "outputs": [
    {
     "name": "stdout",
     "output_type": "stream",
     "text": [
      "0.5629\n"
     ]
    }
   ],
   "source": [
    "similarity = glove_model.wmdistance(sentence_obama, sentence_president)\n",
    "print(f\"{similarity:.4f}\")"
   ]
  },
  {
   "cell_type": "code",
   "execution_count": 21,
   "metadata": {},
   "outputs": [
    {
     "name": "stdout",
     "output_type": "stream",
     "text": [
      "Average similarity between the two sentences: 0.5084\n"
     ]
    }
   ],
   "source": [
    "# Compute similarity between individual words and aggregate\n",
    "total_similarity = 0.0\n",
    "for word1 in sentence_obama:\n",
    "    for word2 in sentence_president:\n",
    "        total_similarity += glove_model.similarity(word1, word2)\n",
    "\n",
    "# Normalize the total similarity by the number of word pairs\n",
    "num_word_pairs = len(sentence_obama) * len(sentence_president)\n",
    "average_similarity = total_similarity / num_word_pairs\n",
    "\n",
    "print(f\"Average similarity between the two sentences: {average_similarity:.4f}\")\n"
   ]
  },
  {
   "cell_type": "code",
   "execution_count": 22,
   "metadata": {},
   "outputs": [
    {
     "name": "stdout",
     "output_type": "stream",
     "text": [
      "0.7484\n"
     ]
    }
   ],
   "source": [
    "similarity = glove_model.n_similarity(['sushi', 'shop'], ['japanese', 'restaurant'])\n",
    "print(f\"{similarity:.4f}\")"
   ]
  },
  {
   "cell_type": "code",
   "execution_count": 23,
   "metadata": {},
   "outputs": [
    {
     "data": {
      "text/plain": [
       "(50,)"
      ]
     },
     "execution_count": 23,
     "metadata": {},
     "output_type": "execute_result"
    }
   ],
   "source": [
    "vector = glove_model['computer']  # numpy vector of a word\n",
    "vector.shape"
   ]
  }
 ],
 "metadata": {
  "kernelspec": {
   "display_name": "Python 3",
   "language": "python",
   "name": "python3"
  },
  "language_info": {
   "codemirror_mode": {
    "name": "ipython",
    "version": 3
   },
   "file_extension": ".py",
   "mimetype": "text/x-python",
   "name": "python",
   "nbconvert_exporter": "python",
   "pygments_lexer": "ipython3",
   "version": "3.9.13"
  }
 },
 "nbformat": 4,
 "nbformat_minor": 2
}
